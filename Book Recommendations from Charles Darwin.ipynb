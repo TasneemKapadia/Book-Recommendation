{
 "cells": [
  {
   "cell_type": "markdown",
   "metadata": {
    "dc": {
     "key": "3"
    },
    "deletable": false,
    "editable": false,
    "run_control": {
     "frozen": true
    },
    "tags": [
     "context"
    ]
   },
   "source": [
    "## 1. Darwin's bibliography\n",
    "<p><img src=\"https://assets.datacamp.com/production/project_607/img/CharlesDarwin.jpg\" alt=\"Charles Darwin\" width=\"300px\"></p>\n",
    "<p>Charles Darwin is one of the few universal figures of science. His most renowned work is without a doubt his \"<em>On the Origin of Species</em>\" published in 1859 which introduced the concept of natural selection. But Darwin wrote many other books on a wide range of topics, including geology, plants or his personal life. In this notebook, we will automatically detect how closely related his books are to each other.</p>\n",
    "<p>To this purpose, we will develop the bases of <strong>a content-based book recommendation system</strong>, which will determine which books are close to each other based on how similar the discussed topics are. The methods we will use are commonly used in text- or documents-heavy industries such as legal, tech or customer support to perform some common task such as text classification or handling search engine queries.</p>\n",
    "<p>Let's take a look at the books we'll use in our recommendation system.</p>"
   ]
  },
  {
   "cell_type": "code",
   "execution_count": 2,
   "metadata": {},
   "outputs": [
    {
     "name": "stdout",
     "output_type": "stream",
     "text": [
      "datasets/ [] ['VolcanicIslands.txt', 'MonographCirripediaVol2.txt', 'GeologicalObservationsSouthAmerica.txt', 'InsectivorousPlants.txt', 'DifferentFormsofFlowers.txt', 'FoundationsOriginofSpecies.txt', 'VariationPlantsAnimalsDomestication.txt', 'PowerMovementPlants.txt', 'ExpressionofEmotionManAnimals.txt', 'LifeandLettersVol2.txt', 'EffectsCrossSelfFertilization.txt', 'CoralReefs.txt', 'LifeandLettersVol1.txt', 'text_lem.p', 'texts_stem.p', 'VoyageBeagle.txt', 'Autobiography.txt', 'FormationVegetableMould.txt', 'DescentofMan.txt', 'MovementClimbingPlants.txt', 'MonographCirripedia.txt', 'OriginofSpecies.txt']\n"
     ]
    }
   ],
   "source": [
    "import os\n",
    "for dirpath, dirs, files in os.walk ('datasets/'):\n",
    "    print (dirpath, dirs, files)"
   ]
  },
  {
   "cell_type": "code",
   "execution_count": 3,
   "metadata": {
    "dc": {
     "key": "3"
    },
    "tags": [
     "sample_code"
    ]
   },
   "outputs": [
    {
     "data": {
      "text/plain": [
       "['datasets/Autobiography.txt',\n",
       " 'datasets/CoralReefs.txt',\n",
       " 'datasets/DescentofMan.txt',\n",
       " 'datasets/DifferentFormsofFlowers.txt',\n",
       " 'datasets/EffectsCrossSelfFertilization.txt',\n",
       " 'datasets/ExpressionofEmotionManAnimals.txt',\n",
       " 'datasets/FormationVegetableMould.txt',\n",
       " 'datasets/FoundationsOriginofSpecies.txt',\n",
       " 'datasets/GeologicalObservationsSouthAmerica.txt',\n",
       " 'datasets/InsectivorousPlants.txt',\n",
       " 'datasets/LifeandLettersVol1.txt',\n",
       " 'datasets/LifeandLettersVol2.txt',\n",
       " 'datasets/MonographCirripedia.txt',\n",
       " 'datasets/MonographCirripediaVol2.txt',\n",
       " 'datasets/MovementClimbingPlants.txt',\n",
       " 'datasets/OriginofSpecies.txt',\n",
       " 'datasets/PowerMovementPlants.txt',\n",
       " 'datasets/VariationPlantsAnimalsDomestication.txt',\n",
       " 'datasets/VolcanicIslands.txt',\n",
       " 'datasets/VoyageBeagle.txt']"
      ]
     },
     "execution_count": 3,
     "metadata": {},
     "output_type": "execute_result"
    }
   ],
   "source": [
    "# Import library\n",
    "import glob\n",
    "\n",
    "# The books files are contained in this folder. \n",
    "#Note: The datasets folder was stored in the same folder as the notebook\n",
    "\n",
    "folder = \"datasets/**/*.txt\" \n",
    "\n",
    "# List all the .txt files and sort them alphabetically\n",
    "files = glob.glob(folder, recursive=True)  ## When recursive is set to True followed by the path separator, /**/ will match any files or directories \n",
    "\n",
    "files=sorted(files)\n",
    "files"
   ]
  },
  {
   "cell_type": "markdown",
   "metadata": {
    "dc": {
     "key": "10"
    },
    "deletable": false,
    "editable": false,
    "run_control": {
     "frozen": true
    },
    "tags": [
     "context"
    ]
   },
   "source": [
    "## 2. Load the contents of each book into Python\n",
    "<p>As a first step, we need to load the content of these books into Python and do some basic pre-processing to facilitate the downstream analyses. We call such a collection of texts <strong>a corpus</strong>. We will also store the titles for these books for future reference and print their respective length to get a gauge for their contents.</p>"
   ]
  },
  {
   "cell_type": "code",
   "execution_count": null,
   "metadata": {},
   "outputs": [],
   "source": []
  },
  {
   "cell_type": "code",
   "execution_count": 4,
   "metadata": {
    "dc": {
     "key": "10"
    },
    "scrolled": false,
    "tags": [
     "sample_code"
    ]
   },
   "outputs": [
    {
     "data": {
      "text/plain": [
       "[123011,\n",
       " 494034,\n",
       " 1772402,\n",
       " 613890,\n",
       " 906659,\n",
       " 623161,\n",
       " 334959,\n",
       " 523767,\n",
       " 794788,\n",
       " 898402,\n",
       " 1044741,\n",
       " 1007984,\n",
       " 770848,\n",
       " 1672176,\n",
       " 297682,\n",
       " 915136,\n",
       " 1090462,\n",
       " 1042534,\n",
       " 340542,\n",
       " 1146752]"
      ]
     },
     "execution_count": 4,
     "metadata": {},
     "output_type": "execute_result"
    }
   ],
   "source": [
    "# Import libraries\n",
    "import re, os\n",
    "\n",
    "# Initialize the object that will contain the texts and titles\n",
    "txts = []\n",
    "titles = []\n",
    "\n",
    "for n in files:\n",
    "    # Open each file\n",
    "    f = open(n, encoding='utf-8-sig').read()\n",
    "    # Remove all non-alpha-numeric characters\n",
    "    re_pattern= r'/[a-zA-Z0-9]+'\n",
    "    f= re.sub(re_pattern, '', f)\n",
    "    \n",
    "    # Remove new line characters\n",
    "    f = re.sub('\\s+', ' ', f)\n",
    "\n",
    "    # Remove distracting single quotes\n",
    "    f = re.sub(\"\\'\", \"\",f)\n",
    "    \n",
    "    #Remove punctuations\n",
    "    f = re.sub(r'[^\\w\\d\\s]', '', f) \n",
    "    \n",
    "    #Get  only the file name from the os path using os.path.basename()\n",
    "    filename=os.path.basename(n)\n",
    "    title= filename.replace('.txt', '')\n",
    "    # Store the texts and titles of the books in two separate lists\n",
    "    txts.append(f)\n",
    "    titles.append(title)\n",
    "\n",
    "# Print the length, in characters, of each book\n",
    "\n",
    "[len(t) for t in txts]"
   ]
  },
  {
   "cell_type": "markdown",
   "metadata": {
    "dc": {
     "key": "17"
    },
    "deletable": false,
    "editable": false,
    "run_control": {
     "frozen": true
    },
    "tags": [
     "context"
    ]
   },
   "source": [
    "## 3. Find \"On the Origin of Species\"\n",
    "<p>For the next parts of this analysis, we will often check the results returned by our method for a given book. For consistency, we will refer to Darwin's most famous book: \"<em>On the Origin of Species</em>.\" Let's find to which index this book is associated.</p>"
   ]
  },
  {
   "cell_type": "code",
   "execution_count": 5,
   "metadata": {},
   "outputs": [
    {
     "data": {
      "text/plain": [
       "['Autobiography',\n",
       " 'CoralReefs',\n",
       " 'DescentofMan',\n",
       " 'DifferentFormsofFlowers',\n",
       " 'EffectsCrossSelfFertilization',\n",
       " 'ExpressionofEmotionManAnimals',\n",
       " 'FormationVegetableMould',\n",
       " 'FoundationsOriginofSpecies',\n",
       " 'GeologicalObservationsSouthAmerica',\n",
       " 'InsectivorousPlants',\n",
       " 'LifeandLettersVol1',\n",
       " 'LifeandLettersVol2',\n",
       " 'MonographCirripedia',\n",
       " 'MonographCirripediaVol2',\n",
       " 'MovementClimbingPlants',\n",
       " 'OriginofSpecies',\n",
       " 'PowerMovementPlants',\n",
       " 'VariationPlantsAnimalsDomestication',\n",
       " 'VolcanicIslands',\n",
       " 'VoyageBeagle']"
      ]
     },
     "execution_count": 5,
     "metadata": {},
     "output_type": "execute_result"
    }
   ],
   "source": [
    "titles"
   ]
  },
  {
   "cell_type": "code",
   "execution_count": 6,
   "metadata": {
    "dc": {
     "key": "17"
    },
    "tags": [
     "sample_code"
    ]
   },
   "outputs": [
    {
     "name": "stdout",
     "output_type": "stream",
     "text": [
      "15\n"
     ]
    }
   ],
   "source": [
    "# Browse the list containing all the titles\n",
    "for i in range(len(titles)):\n",
    "    # Store the index if the title is \"OriginofSpecies\"\n",
    "    if titles[i]=='OriginofSpecies':\n",
    "        ori=i\n",
    "        \n",
    "# Print the stored index\n",
    "print(ori)"
   ]
  },
  {
   "cell_type": "markdown",
   "metadata": {
    "dc": {
     "key": "24"
    },
    "deletable": false,
    "editable": false,
    "run_control": {
     "frozen": true
    },
    "tags": [
     "context"
    ]
   },
   "source": [
    "## 4. Tokenize the corpus\n",
    "<p>As a next step, we need to transform the corpus into a format that is easier to deal with for the downstream analyses. We will tokenize our corpus, i.e., transform each text into a list of the individual words (called tokens) it is made of. To check the output of our process, we will print the first 20 tokens of \"<em>On the Origin of Species</em>\".</p>"
   ]
  },
  {
   "cell_type": "code",
   "execution_count": 7,
   "metadata": {
    "dc": {
     "key": "24"
    },
    "tags": [
     "sample_code"
    ]
   },
   "outputs": [
    {
     "data": {
      "text/plain": [
       "['origin',\n",
       " 'species',\n",
       " 'but',\n",
       " 'with',\n",
       " 'regard',\n",
       " 'material',\n",
       " 'world',\n",
       " 'can',\n",
       " 'least',\n",
       " 'go',\n",
       " 'so',\n",
       " 'far',\n",
       " 'thiswe',\n",
       " 'can',\n",
       " 'perceive',\n",
       " 'events',\n",
       " 'are',\n",
       " 'brought',\n",
       " 'about',\n",
       " 'not']"
      ]
     },
     "execution_count": 7,
     "metadata": {},
     "output_type": "execute_result"
    }
   ],
   "source": [
    "# Define a list of stop words\n",
    "stoplist = set('for a of the on and to in to be which   some is at that we i who whom show via may my our might as well'.split())\n",
    "\n",
    "# Convert the text to lower case \n",
    "txts_lower_case = [text.lower() for text in txts]\n",
    "\n",
    "# Transform the text into tokens \n",
    "txt_split= [text.split() for text in txts_lower_case]\n",
    "\n",
    "# Remove tokens which are part of the list of stop words\n",
    "\n",
    "clean_text=[[char for char in word if char not in stoplist] for word in txt_split]\n",
    "\n",
    "# Print the first 20 tokens for the \"On the Origin of Species\" book\n",
    "clean_text[ori][:20]"
   ]
  },
  {
   "cell_type": "markdown",
   "metadata": {
    "dc": {
     "key": "31"
    },
    "deletable": false,
    "editable": false,
    "run_control": {
     "frozen": true
    },
    "tags": [
     "context"
    ]
   },
   "source": [
    "## 5. Stemming of the tokenized corpus\n",
    "<p>If you have read <em>On the Origin of Species</em>, you will have noticed that Charles Darwin can use different words to refer to a similar concept. For example, the concept of selection can be described by words such as <em>selection</em>, <em>selective</em>, <em>select</em> or <em>selects</em>. This will dilute the weight given to this concept in the book and potentially bias the results of the analysis.</p>\n",
    "<p>To solve this issue, it is a common practice to use a <strong>stemming process</strong>, which will group together the inflected forms of a word so they can be analysed as a single item: <strong>the stem</strong>. In our <em>On the Origin of Species</em> example, the words related to the concept of selection would be gathered under the <em>select</em> stem.</p>\n",
    "<p>As we are analysing 20 full books, the stemming algorithm can take several minutes to run and, in order to make the process faster, we will directly load the final results from a pickle file and review the method used to generate it.</p>"
   ]
  },
  {
   "cell_type": "code",
   "execution_count": 8,
   "metadata": {
    "dc": {
     "key": "31"
    },
    "tags": [
     "sample_code"
    ]
   },
   "outputs": [],
   "source": [
    "from nltk.stem import PorterStemmer\n",
    "porter=PorterStemmer()\n",
    "\n",
    "# For each token of each text we generate a stem\n",
    "text_stem= [[porter.stem(token) for token in word] for word in clean_text]"
   ]
  },
  {
   "cell_type": "code",
   "execution_count": 9,
   "metadata": {},
   "outputs": [
    {
     "data": {
      "text/plain": [
       "['origin', 'speci', 'but', 'with', 'regard']"
      ]
     },
     "execution_count": 9,
     "metadata": {},
     "output_type": "execute_result"
    }
   ],
   "source": [
    "text_stem[ori][:5]"
   ]
  },
  {
   "cell_type": "markdown",
   "metadata": {
    "dc": {
     "key": "38"
    },
    "deletable": false,
    "editable": false,
    "run_control": {
     "frozen": true
    },
    "tags": [
     "context"
    ]
   },
   "source": [
    "## 6. Building a bag-of-words model\n",
    "<p>Now that we have transformed the texts into stemmed tokens, we need to build models that will be useable by downstream algorithms.</p>\n",
    "<p>First, we need to will create a universe of all words contained in our corpus of Charles Darwin's books, which we call <em>a dictionary</em>. Then, using the stemmed tokens and the dictionary, we will create <strong>bag-of-words models</strong> (BoW) of each of our texts. The BoW models will represent our books as a list of all uniques tokens they contain associated with their respective number of occurrences. </p>\n",
    "<p>To better understand the structure of such a model, we will print the five first elements of one of the \"<em>On the Origin of Species</em>\" BoW model.</p>"
   ]
  },
  {
   "cell_type": "code",
   "execution_count": 10,
   "metadata": {
    "dc": {
     "key": "38"
    },
    "tags": [
     "sample_code"
    ]
   },
   "outputs": [
    {
     "data": {
      "text/plain": [
       "[(0, 3), (5, 6), (6, 1), (8, 2), (22, 1)]"
      ]
     },
     "execution_count": 10,
     "metadata": {},
     "output_type": "execute_result"
    }
   ],
   "source": [
    "# Load the functions allowing to create and use dictionaries\n",
    "from gensim import corpora\n",
    "\n",
    "# Create a dictionary from the stemmed tokens\n",
    "dictionary = corpora.Dictionary(text_stem)\n",
    "\n",
    "# Create a bag-of-words model for each book, using the previously generated dictionary\n",
    "bows = [dictionary.doc2bow(text, allow_update=True) for text in text_stem]\n",
    "\n",
    "# Print the first five elements of the On the Origin of species' BoW model\n",
    "bows[ori][:5]"
   ]
  },
  {
   "cell_type": "markdown",
   "metadata": {
    "dc": {
     "key": "45"
    },
    "deletable": false,
    "editable": false,
    "run_control": {
     "frozen": true
    },
    "tags": [
     "context"
    ]
   },
   "source": [
    "## 7. The most common words of a given book\n",
    "<p>The results returned by the bag-of-words model is certainly easy to use for a computer but hard to interpret for a human. It is not straightforward to understand which stemmed tokens are present in a given book from Charles Darwin, and how many occurrences we can find.</p>\n",
    "<p>In order to better understand how the model has been generated and visualize its content, we will transform it into a DataFrame and display the 10 most common stems for the book \"<em>On the Origin of Species</em>\".</p>"
   ]
  },
  {
   "cell_type": "code",
   "execution_count": 11,
   "metadata": {
    "dc": {
     "key": "45"
    },
    "tags": [
     "sample_code"
    ]
   },
   "outputs": [
    {
     "data": {
      "text/html": [
       "<div>\n",
       "<style scoped>\n",
       "    .dataframe tbody tr th:only-of-type {\n",
       "        vertical-align: middle;\n",
       "    }\n",
       "\n",
       "    .dataframe tbody tr th {\n",
       "        vertical-align: top;\n",
       "    }\n",
       "\n",
       "    .dataframe thead th {\n",
       "        text-align: right;\n",
       "    }\n",
       "</style>\n",
       "<table border=\"1\" class=\"dataframe\">\n",
       "  <thead>\n",
       "    <tr style=\"text-align: right;\">\n",
       "      <th></th>\n",
       "      <th>Word_id</th>\n",
       "      <th>Count</th>\n",
       "    </tr>\n",
       "  </thead>\n",
       "  <tbody>\n",
       "    <tr>\n",
       "      <th>728</th>\n",
       "      <td>1194</td>\n",
       "      <td>2022</td>\n",
       "    </tr>\n",
       "    <tr>\n",
       "      <th>868</th>\n",
       "      <td>1394</td>\n",
       "      <td>1468</td>\n",
       "    </tr>\n",
       "    <tr>\n",
       "      <th>1456</th>\n",
       "      <td>2339</td>\n",
       "      <td>1464</td>\n",
       "    </tr>\n",
       "    <tr>\n",
       "      <th>229</th>\n",
       "      <td>401</td>\n",
       "      <td>1357</td>\n",
       "    </tr>\n",
       "    <tr>\n",
       "      <th>1094</th>\n",
       "      <td>1788</td>\n",
       "      <td>1200</td>\n",
       "    </tr>\n",
       "    <tr>\n",
       "      <th>...</th>\n",
       "      <td>...</td>\n",
       "      <td>...</td>\n",
       "    </tr>\n",
       "    <tr>\n",
       "      <th>1311</th>\n",
       "      <td>2116</td>\n",
       "      <td>1</td>\n",
       "    </tr>\n",
       "    <tr>\n",
       "      <th>4089</th>\n",
       "      <td>13336</td>\n",
       "      <td>1</td>\n",
       "    </tr>\n",
       "    <tr>\n",
       "      <th>4090</th>\n",
       "      <td>13343</td>\n",
       "      <td>1</td>\n",
       "    </tr>\n",
       "    <tr>\n",
       "      <th>4091</th>\n",
       "      <td>13350</td>\n",
       "      <td>1</td>\n",
       "    </tr>\n",
       "    <tr>\n",
       "      <th>5953</th>\n",
       "      <td>37618</td>\n",
       "      <td>1</td>\n",
       "    </tr>\n",
       "  </tbody>\n",
       "</table>\n",
       "<p>5954 rows × 2 columns</p>\n",
       "</div>"
      ],
      "text/plain": [
       "      Word_id  Count\n",
       "728      1194   2022\n",
       "868      1394   1468\n",
       "1456     2339   1464\n",
       "229       401   1357\n",
       "1094     1788   1200\n",
       "...       ...    ...\n",
       "1311     2116      1\n",
       "4089    13336      1\n",
       "4090    13343      1\n",
       "4091    13350      1\n",
       "5953    37618      1\n",
       "\n",
       "[5954 rows x 2 columns]"
      ]
     },
     "execution_count": 11,
     "metadata": {},
     "output_type": "execute_result"
    }
   ],
   "source": [
    "# Import pandas to create and manipulate DataFrames\n",
    "import pandas as pd\n",
    "\n",
    "# Convert the BoW model for \"On the Origin of Species\" into a DataFrame\n",
    "df_bow_origin = pd.DataFrame(bows[ori])\n",
    "\n",
    "# Add the column names to the DataFrame\n",
    "df_bow_origin.columns=['Word_id', 'Count']\n",
    "\n",
    "# Add a column containing the token corresponding to the dictionary index\n",
    "# ... YOUR CODE FOR TASK 7 ...\n",
    "\n",
    "# Sort the DataFrame by descending number of occurrences and print the first 10 values\n",
    "df_bow_origin.sort_values(by='Count', ascending=False)"
   ]
  },
  {
   "cell_type": "code",
   "execution_count": 12,
   "metadata": {},
   "outputs": [],
   "source": [
    "df_bow_origin['Word']= df_bow_origin['Word_id'].apply(lambda x: dictionary[x])"
   ]
  },
  {
   "cell_type": "code",
   "execution_count": 13,
   "metadata": {},
   "outputs": [
    {
     "data": {
      "text/html": [
       "<div>\n",
       "<style scoped>\n",
       "    .dataframe tbody tr th:only-of-type {\n",
       "        vertical-align: middle;\n",
       "    }\n",
       "\n",
       "    .dataframe tbody tr th {\n",
       "        vertical-align: top;\n",
       "    }\n",
       "\n",
       "    .dataframe thead th {\n",
       "        text-align: right;\n",
       "    }\n",
       "</style>\n",
       "<table border=\"1\" class=\"dataframe\">\n",
       "  <thead>\n",
       "    <tr style=\"text-align: right;\">\n",
       "      <th></th>\n",
       "      <th>Word_id</th>\n",
       "      <th>Count</th>\n",
       "      <th>Word</th>\n",
       "    </tr>\n",
       "  </thead>\n",
       "  <tbody>\n",
       "    <tr>\n",
       "      <th>728</th>\n",
       "      <td>1194</td>\n",
       "      <td>2022</td>\n",
       "      <td>have</td>\n",
       "    </tr>\n",
       "    <tr>\n",
       "      <th>868</th>\n",
       "      <td>1394</td>\n",
       "      <td>1468</td>\n",
       "      <td>it</td>\n",
       "    </tr>\n",
       "    <tr>\n",
       "      <th>1456</th>\n",
       "      <td>2339</td>\n",
       "      <td>1464</td>\n",
       "      <td>speci</td>\n",
       "    </tr>\n",
       "    <tr>\n",
       "      <th>229</th>\n",
       "      <td>401</td>\n",
       "      <td>1357</td>\n",
       "      <td>by</td>\n",
       "    </tr>\n",
       "    <tr>\n",
       "      <th>1094</th>\n",
       "      <td>1788</td>\n",
       "      <td>1200</td>\n",
       "      <td>or</td>\n",
       "    </tr>\n",
       "  </tbody>\n",
       "</table>\n",
       "</div>"
      ],
      "text/plain": [
       "      Word_id  Count   Word\n",
       "728      1194   2022   have\n",
       "868      1394   1468     it\n",
       "1456     2339   1464  speci\n",
       "229       401   1357     by\n",
       "1094     1788   1200     or"
      ]
     },
     "execution_count": 13,
     "metadata": {},
     "output_type": "execute_result"
    }
   ],
   "source": [
    "df_bow_origin.sort_values(by='Count', ascending=False).head()"
   ]
  },
  {
   "cell_type": "markdown",
   "metadata": {
    "dc": {
     "key": "52"
    },
    "deletable": false,
    "editable": false,
    "run_control": {
     "frozen": true
    },
    "tags": [
     "context"
    ]
   },
   "source": [
    "## 8. Build a tf-idf model\n",
    "<p>If it wasn't for the presence of the stem \"<em>speci</em>\", we would have a hard time to guess this BoW model comes from the <em>On the Origin of Species</em> book. The most recurring words are, apart from few exceptions, very common and unlikely to carry any information peculiar to the given book. We need to use an additional step in order to determine which tokens are the most specific to a book.</p>\n",
    "<p>To do so, we will use a <strong>tf-idf model</strong> (term frequency–inverse document frequency). This model defines the importance of each word depending on how frequent it is in this text and how infrequent it is in all the other documents. As a result, a high tf-idf score for a word will indicate that this word is specific to this text.</p>\n",
    "<p>After computing those scores, we will print the 10 words most specific to the \"<em>On the Origin of Species</em>\" book (i.e., the 10 words with the highest tf-idf score).</p>"
   ]
  },
  {
   "cell_type": "code",
   "execution_count": 14,
   "metadata": {
    "dc": {
     "key": "52"
    },
    "tags": [
     "sample_code"
    ]
   },
   "outputs": [
    {
     "data": {
      "text/plain": [
       "[(8, 0.0002000737621998728),\n",
       " (22, 0.0005610639289221997),\n",
       " (24, 0.0016803046040062587),\n",
       " (28, 0.0003169593027856649),\n",
       " (29, 0.002520456906009388),\n",
       " (37, 0.000996258922294572),\n",
       " (53, 0.000435194993372372),\n",
       " (56, 0.001992517844589144),\n",
       " (58, 0.0027036782454457104),\n",
       " (65, 0.001992517844589144)]"
      ]
     },
     "execution_count": 14,
     "metadata": {},
     "output_type": "execute_result"
    }
   ],
   "source": [
    "# Load the gensim functions that will allow us to generate tf-idf models\n",
    "from gensim.models import TfidfModel\n",
    "\n",
    "# Generate the tf-idf model\n",
    "model = TfidfModel(id2word=dictionary, corpus=bows)\n",
    "\n",
    "# Print the model for \"On the Origin of Species\"\n",
    "vector = model[bows[ori]] \n",
    "\n",
    "vector[:10]"
   ]
  },
  {
   "cell_type": "markdown",
   "metadata": {
    "dc": {
     "key": "59"
    },
    "deletable": false,
    "editable": false,
    "run_control": {
     "frozen": true
    },
    "tags": [
     "context"
    ]
   },
   "source": [
    "## 9. The results of the tf-idf model\n",
    "<p>Once again, the format of those results is hard to interpret for a human. Therefore, we will transform it into a more readable version and display the 10 most specific words for the \"<em>On the Origin of Species</em>\" book.</p>"
   ]
  },
  {
   "cell_type": "code",
   "execution_count": 15,
   "metadata": {
    "dc": {
     "key": "59"
    },
    "tags": [
     "sample_code"
    ]
   },
   "outputs": [
    {
     "data": {
      "text/html": [
       "<div>\n",
       "<style scoped>\n",
       "    .dataframe tbody tr th:only-of-type {\n",
       "        vertical-align: middle;\n",
       "    }\n",
       "\n",
       "    .dataframe tbody tr th {\n",
       "        vertical-align: top;\n",
       "    }\n",
       "\n",
       "    .dataframe thead th {\n",
       "        text-align: right;\n",
       "    }\n",
       "</style>\n",
       "<table border=\"1\" class=\"dataframe\">\n",
       "  <thead>\n",
       "    <tr style=\"text-align: right;\">\n",
       "      <th></th>\n",
       "      <th>id</th>\n",
       "      <th>score</th>\n",
       "      <th>token</th>\n",
       "    </tr>\n",
       "  </thead>\n",
       "  <tbody>\n",
       "    <tr>\n",
       "      <th>860</th>\n",
       "      <td>2213</td>\n",
       "      <td>0.304682</td>\n",
       "      <td>select</td>\n",
       "    </tr>\n",
       "    <tr>\n",
       "      <th>120</th>\n",
       "      <td>376</td>\n",
       "      <td>0.208218</td>\n",
       "      <td>breed</td>\n",
       "    </tr>\n",
       "    <tr>\n",
       "      <th>3028</th>\n",
       "      <td>10861</td>\n",
       "      <td>0.155472</td>\n",
       "      <td>migrat</td>\n",
       "    </tr>\n",
       "    <tr>\n",
       "      <th>3151</th>\n",
       "      <td>11699</td>\n",
       "      <td>0.149465</td>\n",
       "      <td>pigeon</td>\n",
       "    </tr>\n",
       "    <tr>\n",
       "      <th>929</th>\n",
       "      <td>2376</td>\n",
       "      <td>0.141469</td>\n",
       "      <td>steril</td>\n",
       "    </tr>\n",
       "    <tr>\n",
       "      <th>274</th>\n",
       "      <td>765</td>\n",
       "      <td>0.137733</td>\n",
       "      <td>domest</td>\n",
       "    </tr>\n",
       "    <tr>\n",
       "      <th>3986</th>\n",
       "      <td>21458</td>\n",
       "      <td>0.122098</td>\n",
       "      <td>gärtner</td>\n",
       "    </tr>\n",
       "    <tr>\n",
       "      <th>362</th>\n",
       "      <td>985</td>\n",
       "      <td>0.118461</td>\n",
       "      <td>fertil</td>\n",
       "    </tr>\n",
       "    <tr>\n",
       "      <th>489</th>\n",
       "      <td>1282</td>\n",
       "      <td>0.116864</td>\n",
       "      <td>hybrid</td>\n",
       "    </tr>\n",
       "    <tr>\n",
       "      <th>421</th>\n",
       "      <td>1116</td>\n",
       "      <td>0.116705</td>\n",
       "      <td>glacial</td>\n",
       "    </tr>\n",
       "  </tbody>\n",
       "</table>\n",
       "</div>"
      ],
      "text/plain": [
       "         id     score    token\n",
       "860    2213  0.304682   select\n",
       "120     376  0.208218    breed\n",
       "3028  10861  0.155472   migrat\n",
       "3151  11699  0.149465   pigeon\n",
       "929    2376  0.141469   steril\n",
       "274     765  0.137733   domest\n",
       "3986  21458  0.122098  gärtner\n",
       "362     985  0.118461   fertil\n",
       "489    1282  0.116864   hybrid\n",
       "421    1116  0.116705  glacial"
      ]
     },
     "execution_count": 15,
     "metadata": {},
     "output_type": "execute_result"
    }
   ],
   "source": [
    "# Convert the tf-idf model for \"On the Origin of Species\" into a DataFrame\n",
    "df_tfidf = pd.DataFrame(vector)\n",
    "\n",
    "# Name the columns of the DataFrame id and score\n",
    "df_tfidf.columns= ['id', 'score']\n",
    "\n",
    "# Add the tokens corresponding to the numerical indices for better readability\n",
    "df_tfidf['token']= df_tfidf['id'].apply(lambda x: dictionary[x])\n",
    "\n",
    "\n",
    "def highlight_keywords(x):\n",
    "    if x['token'] ==' select' or 'breed' or 'pigeon':\n",
    "        return ['background-color: yellow']\n",
    "    else:\n",
    "        return ['background-color: white']\n",
    "\n",
    "# Sort the DataFrame by descending tf-idf score and print the first 10 rows.\n",
    "sort_df= df_tfidf.sort_values(by='score', ascending=False).head(10)\n",
    "sort_df"
   ]
  },
  {
   "cell_type": "markdown",
   "metadata": {
    "dc": {
     "key": "66"
    },
    "deletable": false,
    "editable": false,
    "run_control": {
     "frozen": true
    },
    "tags": [
     "context"
    ]
   },
   "source": [
    "## 10. Compute distance between texts\n",
    "<p>The results of the tf-idf algorithm now return stemmed tokens which are specific to each book. We can, for example, see that topics such as selection, breeding or domestication are defining \"<em>On the Origin of Species</em>\" (and yes, in this book, Charles Darwin talks quite a lot about pigeons too). Now that we have a model associating tokens to how specific they are to each book, we can measure how related to books are between each other.</p>\n",
    "<p>To this purpose, we will use a measure of similarity called <strong>cosine similarity</strong> and we will visualize the results as a distance matrix, i.e., a matrix showing all pairwise distances between Darwin's books.</p>"
   ]
  },
  {
   "cell_type": "code",
   "execution_count": 16,
   "metadata": {
    "dc": {
     "key": "66"
    },
    "tags": [
     "sample_code"
    ]
   },
   "outputs": [
    {
     "data": {
      "text/html": [
       "<div>\n",
       "<style scoped>\n",
       "    .dataframe tbody tr th:only-of-type {\n",
       "        vertical-align: middle;\n",
       "    }\n",
       "\n",
       "    .dataframe tbody tr th {\n",
       "        vertical-align: top;\n",
       "    }\n",
       "\n",
       "    .dataframe thead th {\n",
       "        text-align: right;\n",
       "    }\n",
       "</style>\n",
       "<table border=\"1\" class=\"dataframe\">\n",
       "  <thead>\n",
       "    <tr style=\"text-align: right;\">\n",
       "      <th></th>\n",
       "      <th>Autobiography</th>\n",
       "      <th>CoralReefs</th>\n",
       "      <th>DescentofMan</th>\n",
       "      <th>DifferentFormsofFlowers</th>\n",
       "      <th>EffectsCrossSelfFertilization</th>\n",
       "      <th>ExpressionofEmotionManAnimals</th>\n",
       "      <th>FormationVegetableMould</th>\n",
       "      <th>FoundationsOriginofSpecies</th>\n",
       "      <th>GeologicalObservationsSouthAmerica</th>\n",
       "      <th>InsectivorousPlants</th>\n",
       "      <th>LifeandLettersVol1</th>\n",
       "      <th>LifeandLettersVol2</th>\n",
       "      <th>MonographCirripedia</th>\n",
       "      <th>MonographCirripediaVol2</th>\n",
       "      <th>MovementClimbingPlants</th>\n",
       "      <th>OriginofSpecies</th>\n",
       "      <th>PowerMovementPlants</th>\n",
       "      <th>VariationPlantsAnimalsDomestication</th>\n",
       "      <th>VolcanicIslands</th>\n",
       "      <th>VoyageBeagle</th>\n",
       "    </tr>\n",
       "  </thead>\n",
       "  <tbody>\n",
       "    <tr>\n",
       "      <th>0</th>\n",
       "      <td>1.000001</td>\n",
       "      <td>0.582554</td>\n",
       "      <td>0.642432</td>\n",
       "      <td>0.523776</td>\n",
       "      <td>0.439627</td>\n",
       "      <td>0.713060</td>\n",
       "      <td>0.704688</td>\n",
       "      <td>0.641544</td>\n",
       "      <td>0.632614</td>\n",
       "      <td>0.613172</td>\n",
       "      <td>0.888639</td>\n",
       "      <td>0.798525</td>\n",
       "      <td>0.537079</td>\n",
       "      <td>0.561443</td>\n",
       "      <td>0.614000</td>\n",
       "      <td>0.664093</td>\n",
       "      <td>0.660238</td>\n",
       "      <td>0.684212</td>\n",
       "      <td>0.631795</td>\n",
       "      <td>0.817613</td>\n",
       "    </tr>\n",
       "    <tr>\n",
       "      <th>1</th>\n",
       "      <td>0.582554</td>\n",
       "      <td>0.999999</td>\n",
       "      <td>0.659209</td>\n",
       "      <td>0.554492</td>\n",
       "      <td>0.409892</td>\n",
       "      <td>0.668114</td>\n",
       "      <td>0.666221</td>\n",
       "      <td>0.678713</td>\n",
       "      <td>0.761373</td>\n",
       "      <td>0.551885</td>\n",
       "      <td>0.607321</td>\n",
       "      <td>0.597796</td>\n",
       "      <td>0.641295</td>\n",
       "      <td>0.677066</td>\n",
       "      <td>0.597845</td>\n",
       "      <td>0.711865</td>\n",
       "      <td>0.593931</td>\n",
       "      <td>0.708748</td>\n",
       "      <td>0.794187</td>\n",
       "      <td>0.782719</td>\n",
       "    </tr>\n",
       "    <tr>\n",
       "      <th>2</th>\n",
       "      <td>0.642432</td>\n",
       "      <td>0.659209</td>\n",
       "      <td>1.000000</td>\n",
       "      <td>0.618488</td>\n",
       "      <td>0.462837</td>\n",
       "      <td>0.811248</td>\n",
       "      <td>0.679059</td>\n",
       "      <td>0.809688</td>\n",
       "      <td>0.686656</td>\n",
       "      <td>0.582077</td>\n",
       "      <td>0.665034</td>\n",
       "      <td>0.657513</td>\n",
       "      <td>0.697273</td>\n",
       "      <td>0.714793</td>\n",
       "      <td>0.648962</td>\n",
       "      <td>0.827191</td>\n",
       "      <td>0.617968</td>\n",
       "      <td>0.858622</td>\n",
       "      <td>0.719413</td>\n",
       "      <td>0.773391</td>\n",
       "    </tr>\n",
       "    <tr>\n",
       "      <th>3</th>\n",
       "      <td>0.523776</td>\n",
       "      <td>0.554492</td>\n",
       "      <td>0.618488</td>\n",
       "      <td>1.000000</td>\n",
       "      <td>0.735593</td>\n",
       "      <td>0.581953</td>\n",
       "      <td>0.577797</td>\n",
       "      <td>0.643481</td>\n",
       "      <td>0.583271</td>\n",
       "      <td>0.554619</td>\n",
       "      <td>0.509361</td>\n",
       "      <td>0.507520</td>\n",
       "      <td>0.590263</td>\n",
       "      <td>0.602816</td>\n",
       "      <td>0.601128</td>\n",
       "      <td>0.680586</td>\n",
       "      <td>0.599330</td>\n",
       "      <td>0.692129</td>\n",
       "      <td>0.607310</td>\n",
       "      <td>0.636699</td>\n",
       "    </tr>\n",
       "    <tr>\n",
       "      <th>4</th>\n",
       "      <td>0.439627</td>\n",
       "      <td>0.409892</td>\n",
       "      <td>0.462837</td>\n",
       "      <td>0.735593</td>\n",
       "      <td>1.000000</td>\n",
       "      <td>0.454973</td>\n",
       "      <td>0.497522</td>\n",
       "      <td>0.501610</td>\n",
       "      <td>0.453889</td>\n",
       "      <td>0.488658</td>\n",
       "      <td>0.409061</td>\n",
       "      <td>0.406367</td>\n",
       "      <td>0.431181</td>\n",
       "      <td>0.454112</td>\n",
       "      <td>0.522976</td>\n",
       "      <td>0.542425</td>\n",
       "      <td>0.547131</td>\n",
       "      <td>0.557681</td>\n",
       "      <td>0.454757</td>\n",
       "      <td>0.514529</td>\n",
       "    </tr>\n",
       "    <tr>\n",
       "      <th>5</th>\n",
       "      <td>0.713060</td>\n",
       "      <td>0.668114</td>\n",
       "      <td>0.811248</td>\n",
       "      <td>0.581953</td>\n",
       "      <td>0.454973</td>\n",
       "      <td>0.999999</td>\n",
       "      <td>0.720755</td>\n",
       "      <td>0.772192</td>\n",
       "      <td>0.704947</td>\n",
       "      <td>0.624086</td>\n",
       "      <td>0.734825</td>\n",
       "      <td>0.699930</td>\n",
       "      <td>0.681157</td>\n",
       "      <td>0.719235</td>\n",
       "      <td>0.706069</td>\n",
       "      <td>0.779633</td>\n",
       "      <td>0.685186</td>\n",
       "      <td>0.807987</td>\n",
       "      <td>0.741630</td>\n",
       "      <td>0.818329</td>\n",
       "    </tr>\n",
       "    <tr>\n",
       "      <th>6</th>\n",
       "      <td>0.704688</td>\n",
       "      <td>0.666221</td>\n",
       "      <td>0.679059</td>\n",
       "      <td>0.577797</td>\n",
       "      <td>0.497522</td>\n",
       "      <td>0.720755</td>\n",
       "      <td>1.000000</td>\n",
       "      <td>0.669639</td>\n",
       "      <td>0.733892</td>\n",
       "      <td>0.700572</td>\n",
       "      <td>0.655562</td>\n",
       "      <td>0.610096</td>\n",
       "      <td>0.641762</td>\n",
       "      <td>0.669605</td>\n",
       "      <td>0.674302</td>\n",
       "      <td>0.703793</td>\n",
       "      <td>0.739067</td>\n",
       "      <td>0.732548</td>\n",
       "      <td>0.746929</td>\n",
       "      <td>0.825395</td>\n",
       "    </tr>\n",
       "    <tr>\n",
       "      <th>7</th>\n",
       "      <td>0.641544</td>\n",
       "      <td>0.678713</td>\n",
       "      <td>0.809688</td>\n",
       "      <td>0.643481</td>\n",
       "      <td>0.501610</td>\n",
       "      <td>0.772192</td>\n",
       "      <td>0.669639</td>\n",
       "      <td>1.000000</td>\n",
       "      <td>0.702560</td>\n",
       "      <td>0.585870</td>\n",
       "      <td>0.693910</td>\n",
       "      <td>0.683006</td>\n",
       "      <td>0.664416</td>\n",
       "      <td>0.712119</td>\n",
       "      <td>0.673024</td>\n",
       "      <td>0.905413</td>\n",
       "      <td>0.639331</td>\n",
       "      <td>0.852045</td>\n",
       "      <td>0.724833</td>\n",
       "      <td>0.788067</td>\n",
       "    </tr>\n",
       "    <tr>\n",
       "      <th>8</th>\n",
       "      <td>0.632614</td>\n",
       "      <td>0.761373</td>\n",
       "      <td>0.686656</td>\n",
       "      <td>0.583271</td>\n",
       "      <td>0.453889</td>\n",
       "      <td>0.704947</td>\n",
       "      <td>0.733892</td>\n",
       "      <td>0.702560</td>\n",
       "      <td>1.000000</td>\n",
       "      <td>0.602090</td>\n",
       "      <td>0.632165</td>\n",
       "      <td>0.611574</td>\n",
       "      <td>0.692783</td>\n",
       "      <td>0.734256</td>\n",
       "      <td>0.642750</td>\n",
       "      <td>0.746335</td>\n",
       "      <td>0.649666</td>\n",
       "      <td>0.756421</td>\n",
       "      <td>0.893016</td>\n",
       "      <td>0.830980</td>\n",
       "    </tr>\n",
       "    <tr>\n",
       "      <th>9</th>\n",
       "      <td>0.613172</td>\n",
       "      <td>0.551885</td>\n",
       "      <td>0.582077</td>\n",
       "      <td>0.554619</td>\n",
       "      <td>0.488658</td>\n",
       "      <td>0.624086</td>\n",
       "      <td>0.700572</td>\n",
       "      <td>0.585870</td>\n",
       "      <td>0.602090</td>\n",
       "      <td>0.999999</td>\n",
       "      <td>0.567257</td>\n",
       "      <td>0.524827</td>\n",
       "      <td>0.587413</td>\n",
       "      <td>0.598958</td>\n",
       "      <td>0.675188</td>\n",
       "      <td>0.601667</td>\n",
       "      <td>0.728374</td>\n",
       "      <td>0.632956</td>\n",
       "      <td>0.612972</td>\n",
       "      <td>0.715429</td>\n",
       "    </tr>\n",
       "    <tr>\n",
       "      <th>10</th>\n",
       "      <td>0.888639</td>\n",
       "      <td>0.607321</td>\n",
       "      <td>0.665034</td>\n",
       "      <td>0.509361</td>\n",
       "      <td>0.409061</td>\n",
       "      <td>0.734825</td>\n",
       "      <td>0.655562</td>\n",
       "      <td>0.693910</td>\n",
       "      <td>0.632165</td>\n",
       "      <td>0.567257</td>\n",
       "      <td>1.000000</td>\n",
       "      <td>0.956219</td>\n",
       "      <td>0.557047</td>\n",
       "      <td>0.592328</td>\n",
       "      <td>0.612964</td>\n",
       "      <td>0.714444</td>\n",
       "      <td>0.614493</td>\n",
       "      <td>0.696687</td>\n",
       "      <td>0.640331</td>\n",
       "      <td>0.803729</td>\n",
       "    </tr>\n",
       "    <tr>\n",
       "      <th>11</th>\n",
       "      <td>0.798525</td>\n",
       "      <td>0.597796</td>\n",
       "      <td>0.657513</td>\n",
       "      <td>0.507520</td>\n",
       "      <td>0.406367</td>\n",
       "      <td>0.699930</td>\n",
       "      <td>0.610096</td>\n",
       "      <td>0.683006</td>\n",
       "      <td>0.611574</td>\n",
       "      <td>0.524827</td>\n",
       "      <td>0.956219</td>\n",
       "      <td>0.999999</td>\n",
       "      <td>0.537049</td>\n",
       "      <td>0.583345</td>\n",
       "      <td>0.591950</td>\n",
       "      <td>0.715802</td>\n",
       "      <td>0.570363</td>\n",
       "      <td>0.684606</td>\n",
       "      <td>0.625132</td>\n",
       "      <td>0.737742</td>\n",
       "    </tr>\n",
       "    <tr>\n",
       "      <th>12</th>\n",
       "      <td>0.537079</td>\n",
       "      <td>0.641295</td>\n",
       "      <td>0.697273</td>\n",
       "      <td>0.590263</td>\n",
       "      <td>0.431181</td>\n",
       "      <td>0.681157</td>\n",
       "      <td>0.641762</td>\n",
       "      <td>0.664416</td>\n",
       "      <td>0.692783</td>\n",
       "      <td>0.587413</td>\n",
       "      <td>0.557047</td>\n",
       "      <td>0.537049</td>\n",
       "      <td>1.000000</td>\n",
       "      <td>0.910509</td>\n",
       "      <td>0.642458</td>\n",
       "      <td>0.695170</td>\n",
       "      <td>0.628572</td>\n",
       "      <td>0.731043</td>\n",
       "      <td>0.707147</td>\n",
       "      <td>0.718644</td>\n",
       "    </tr>\n",
       "    <tr>\n",
       "      <th>13</th>\n",
       "      <td>0.561443</td>\n",
       "      <td>0.677066</td>\n",
       "      <td>0.714793</td>\n",
       "      <td>0.602816</td>\n",
       "      <td>0.454112</td>\n",
       "      <td>0.719235</td>\n",
       "      <td>0.669605</td>\n",
       "      <td>0.712119</td>\n",
       "      <td>0.734256</td>\n",
       "      <td>0.598958</td>\n",
       "      <td>0.592328</td>\n",
       "      <td>0.583345</td>\n",
       "      <td>0.910509</td>\n",
       "      <td>1.000000</td>\n",
       "      <td>0.667528</td>\n",
       "      <td>0.745292</td>\n",
       "      <td>0.645751</td>\n",
       "      <td>0.764133</td>\n",
       "      <td>0.745981</td>\n",
       "      <td>0.744308</td>\n",
       "    </tr>\n",
       "    <tr>\n",
       "      <th>14</th>\n",
       "      <td>0.614000</td>\n",
       "      <td>0.597845</td>\n",
       "      <td>0.648962</td>\n",
       "      <td>0.601128</td>\n",
       "      <td>0.522976</td>\n",
       "      <td>0.706069</td>\n",
       "      <td>0.674302</td>\n",
       "      <td>0.673024</td>\n",
       "      <td>0.642750</td>\n",
       "      <td>0.675188</td>\n",
       "      <td>0.612964</td>\n",
       "      <td>0.591950</td>\n",
       "      <td>0.642458</td>\n",
       "      <td>0.667528</td>\n",
       "      <td>1.000000</td>\n",
       "      <td>0.691177</td>\n",
       "      <td>0.769744</td>\n",
       "      <td>0.701069</td>\n",
       "      <td>0.663211</td>\n",
       "      <td>0.746268</td>\n",
       "    </tr>\n",
       "    <tr>\n",
       "      <th>15</th>\n",
       "      <td>0.664093</td>\n",
       "      <td>0.711865</td>\n",
       "      <td>0.827191</td>\n",
       "      <td>0.680586</td>\n",
       "      <td>0.542425</td>\n",
       "      <td>0.779633</td>\n",
       "      <td>0.703793</td>\n",
       "      <td>0.905413</td>\n",
       "      <td>0.746335</td>\n",
       "      <td>0.601667</td>\n",
       "      <td>0.714444</td>\n",
       "      <td>0.715802</td>\n",
       "      <td>0.695170</td>\n",
       "      <td>0.745292</td>\n",
       "      <td>0.691177</td>\n",
       "      <td>1.000000</td>\n",
       "      <td>0.643005</td>\n",
       "      <td>0.872551</td>\n",
       "      <td>0.762995</td>\n",
       "      <td>0.805199</td>\n",
       "    </tr>\n",
       "    <tr>\n",
       "      <th>16</th>\n",
       "      <td>0.660238</td>\n",
       "      <td>0.593931</td>\n",
       "      <td>0.617968</td>\n",
       "      <td>0.599330</td>\n",
       "      <td>0.547131</td>\n",
       "      <td>0.685186</td>\n",
       "      <td>0.739067</td>\n",
       "      <td>0.639331</td>\n",
       "      <td>0.649666</td>\n",
       "      <td>0.728374</td>\n",
       "      <td>0.614493</td>\n",
       "      <td>0.570363</td>\n",
       "      <td>0.628572</td>\n",
       "      <td>0.645751</td>\n",
       "      <td>0.769744</td>\n",
       "      <td>0.643005</td>\n",
       "      <td>1.000000</td>\n",
       "      <td>0.679056</td>\n",
       "      <td>0.654954</td>\n",
       "      <td>0.772379</td>\n",
       "    </tr>\n",
       "    <tr>\n",
       "      <th>17</th>\n",
       "      <td>0.684212</td>\n",
       "      <td>0.708748</td>\n",
       "      <td>0.858622</td>\n",
       "      <td>0.692129</td>\n",
       "      <td>0.557681</td>\n",
       "      <td>0.807987</td>\n",
       "      <td>0.732548</td>\n",
       "      <td>0.852045</td>\n",
       "      <td>0.756421</td>\n",
       "      <td>0.632956</td>\n",
       "      <td>0.696687</td>\n",
       "      <td>0.684606</td>\n",
       "      <td>0.731043</td>\n",
       "      <td>0.764133</td>\n",
       "      <td>0.701069</td>\n",
       "      <td>0.872551</td>\n",
       "      <td>0.679056</td>\n",
       "      <td>1.000000</td>\n",
       "      <td>0.779121</td>\n",
       "      <td>0.822449</td>\n",
       "    </tr>\n",
       "    <tr>\n",
       "      <th>18</th>\n",
       "      <td>0.631795</td>\n",
       "      <td>0.794187</td>\n",
       "      <td>0.719413</td>\n",
       "      <td>0.607310</td>\n",
       "      <td>0.454757</td>\n",
       "      <td>0.741630</td>\n",
       "      <td>0.746929</td>\n",
       "      <td>0.724833</td>\n",
       "      <td>0.893016</td>\n",
       "      <td>0.612972</td>\n",
       "      <td>0.640331</td>\n",
       "      <td>0.625132</td>\n",
       "      <td>0.707147</td>\n",
       "      <td>0.745981</td>\n",
       "      <td>0.663211</td>\n",
       "      <td>0.762995</td>\n",
       "      <td>0.654954</td>\n",
       "      <td>0.779121</td>\n",
       "      <td>1.000000</td>\n",
       "      <td>0.837923</td>\n",
       "    </tr>\n",
       "    <tr>\n",
       "      <th>19</th>\n",
       "      <td>0.817613</td>\n",
       "      <td>0.782719</td>\n",
       "      <td>0.773391</td>\n",
       "      <td>0.636699</td>\n",
       "      <td>0.514529</td>\n",
       "      <td>0.818329</td>\n",
       "      <td>0.825395</td>\n",
       "      <td>0.788067</td>\n",
       "      <td>0.830980</td>\n",
       "      <td>0.715429</td>\n",
       "      <td>0.803729</td>\n",
       "      <td>0.737742</td>\n",
       "      <td>0.718644</td>\n",
       "      <td>0.744308</td>\n",
       "      <td>0.746268</td>\n",
       "      <td>0.805199</td>\n",
       "      <td>0.772379</td>\n",
       "      <td>0.822449</td>\n",
       "      <td>0.837923</td>\n",
       "      <td>1.000000</td>\n",
       "    </tr>\n",
       "  </tbody>\n",
       "</table>\n",
       "</div>"
      ],
      "text/plain": [
       "    Autobiography  CoralReefs  DescentofMan  DifferentFormsofFlowers  \\\n",
       "0        1.000001    0.582554      0.642432                 0.523776   \n",
       "1        0.582554    0.999999      0.659209                 0.554492   \n",
       "2        0.642432    0.659209      1.000000                 0.618488   \n",
       "3        0.523776    0.554492      0.618488                 1.000000   \n",
       "4        0.439627    0.409892      0.462837                 0.735593   \n",
       "5        0.713060    0.668114      0.811248                 0.581953   \n",
       "6        0.704688    0.666221      0.679059                 0.577797   \n",
       "7        0.641544    0.678713      0.809688                 0.643481   \n",
       "8        0.632614    0.761373      0.686656                 0.583271   \n",
       "9        0.613172    0.551885      0.582077                 0.554619   \n",
       "10       0.888639    0.607321      0.665034                 0.509361   \n",
       "11       0.798525    0.597796      0.657513                 0.507520   \n",
       "12       0.537079    0.641295      0.697273                 0.590263   \n",
       "13       0.561443    0.677066      0.714793                 0.602816   \n",
       "14       0.614000    0.597845      0.648962                 0.601128   \n",
       "15       0.664093    0.711865      0.827191                 0.680586   \n",
       "16       0.660238    0.593931      0.617968                 0.599330   \n",
       "17       0.684212    0.708748      0.858622                 0.692129   \n",
       "18       0.631795    0.794187      0.719413                 0.607310   \n",
       "19       0.817613    0.782719      0.773391                 0.636699   \n",
       "\n",
       "    EffectsCrossSelfFertilization  ExpressionofEmotionManAnimals  \\\n",
       "0                        0.439627                       0.713060   \n",
       "1                        0.409892                       0.668114   \n",
       "2                        0.462837                       0.811248   \n",
       "3                        0.735593                       0.581953   \n",
       "4                        1.000000                       0.454973   \n",
       "5                        0.454973                       0.999999   \n",
       "6                        0.497522                       0.720755   \n",
       "7                        0.501610                       0.772192   \n",
       "8                        0.453889                       0.704947   \n",
       "9                        0.488658                       0.624086   \n",
       "10                       0.409061                       0.734825   \n",
       "11                       0.406367                       0.699930   \n",
       "12                       0.431181                       0.681157   \n",
       "13                       0.454112                       0.719235   \n",
       "14                       0.522976                       0.706069   \n",
       "15                       0.542425                       0.779633   \n",
       "16                       0.547131                       0.685186   \n",
       "17                       0.557681                       0.807987   \n",
       "18                       0.454757                       0.741630   \n",
       "19                       0.514529                       0.818329   \n",
       "\n",
       "    FormationVegetableMould  FoundationsOriginofSpecies  \\\n",
       "0                  0.704688                    0.641544   \n",
       "1                  0.666221                    0.678713   \n",
       "2                  0.679059                    0.809688   \n",
       "3                  0.577797                    0.643481   \n",
       "4                  0.497522                    0.501610   \n",
       "5                  0.720755                    0.772192   \n",
       "6                  1.000000                    0.669639   \n",
       "7                  0.669639                    1.000000   \n",
       "8                  0.733892                    0.702560   \n",
       "9                  0.700572                    0.585870   \n",
       "10                 0.655562                    0.693910   \n",
       "11                 0.610096                    0.683006   \n",
       "12                 0.641762                    0.664416   \n",
       "13                 0.669605                    0.712119   \n",
       "14                 0.674302                    0.673024   \n",
       "15                 0.703793                    0.905413   \n",
       "16                 0.739067                    0.639331   \n",
       "17                 0.732548                    0.852045   \n",
       "18                 0.746929                    0.724833   \n",
       "19                 0.825395                    0.788067   \n",
       "\n",
       "    GeologicalObservationsSouthAmerica  InsectivorousPlants  \\\n",
       "0                             0.632614             0.613172   \n",
       "1                             0.761373             0.551885   \n",
       "2                             0.686656             0.582077   \n",
       "3                             0.583271             0.554619   \n",
       "4                             0.453889             0.488658   \n",
       "5                             0.704947             0.624086   \n",
       "6                             0.733892             0.700572   \n",
       "7                             0.702560             0.585870   \n",
       "8                             1.000000             0.602090   \n",
       "9                             0.602090             0.999999   \n",
       "10                            0.632165             0.567257   \n",
       "11                            0.611574             0.524827   \n",
       "12                            0.692783             0.587413   \n",
       "13                            0.734256             0.598958   \n",
       "14                            0.642750             0.675188   \n",
       "15                            0.746335             0.601667   \n",
       "16                            0.649666             0.728374   \n",
       "17                            0.756421             0.632956   \n",
       "18                            0.893016             0.612972   \n",
       "19                            0.830980             0.715429   \n",
       "\n",
       "    LifeandLettersVol1  LifeandLettersVol2  MonographCirripedia  \\\n",
       "0             0.888639            0.798525             0.537079   \n",
       "1             0.607321            0.597796             0.641295   \n",
       "2             0.665034            0.657513             0.697273   \n",
       "3             0.509361            0.507520             0.590263   \n",
       "4             0.409061            0.406367             0.431181   \n",
       "5             0.734825            0.699930             0.681157   \n",
       "6             0.655562            0.610096             0.641762   \n",
       "7             0.693910            0.683006             0.664416   \n",
       "8             0.632165            0.611574             0.692783   \n",
       "9             0.567257            0.524827             0.587413   \n",
       "10            1.000000            0.956219             0.557047   \n",
       "11            0.956219            0.999999             0.537049   \n",
       "12            0.557047            0.537049             1.000000   \n",
       "13            0.592328            0.583345             0.910509   \n",
       "14            0.612964            0.591950             0.642458   \n",
       "15            0.714444            0.715802             0.695170   \n",
       "16            0.614493            0.570363             0.628572   \n",
       "17            0.696687            0.684606             0.731043   \n",
       "18            0.640331            0.625132             0.707147   \n",
       "19            0.803729            0.737742             0.718644   \n",
       "\n",
       "    MonographCirripediaVol2  MovementClimbingPlants  OriginofSpecies  \\\n",
       "0                  0.561443                0.614000         0.664093   \n",
       "1                  0.677066                0.597845         0.711865   \n",
       "2                  0.714793                0.648962         0.827191   \n",
       "3                  0.602816                0.601128         0.680586   \n",
       "4                  0.454112                0.522976         0.542425   \n",
       "5                  0.719235                0.706069         0.779633   \n",
       "6                  0.669605                0.674302         0.703793   \n",
       "7                  0.712119                0.673024         0.905413   \n",
       "8                  0.734256                0.642750         0.746335   \n",
       "9                  0.598958                0.675188         0.601667   \n",
       "10                 0.592328                0.612964         0.714444   \n",
       "11                 0.583345                0.591950         0.715802   \n",
       "12                 0.910509                0.642458         0.695170   \n",
       "13                 1.000000                0.667528         0.745292   \n",
       "14                 0.667528                1.000000         0.691177   \n",
       "15                 0.745292                0.691177         1.000000   \n",
       "16                 0.645751                0.769744         0.643005   \n",
       "17                 0.764133                0.701069         0.872551   \n",
       "18                 0.745981                0.663211         0.762995   \n",
       "19                 0.744308                0.746268         0.805199   \n",
       "\n",
       "    PowerMovementPlants  VariationPlantsAnimalsDomestication  VolcanicIslands  \\\n",
       "0              0.660238                             0.684212         0.631795   \n",
       "1              0.593931                             0.708748         0.794187   \n",
       "2              0.617968                             0.858622         0.719413   \n",
       "3              0.599330                             0.692129         0.607310   \n",
       "4              0.547131                             0.557681         0.454757   \n",
       "5              0.685186                             0.807987         0.741630   \n",
       "6              0.739067                             0.732548         0.746929   \n",
       "7              0.639331                             0.852045         0.724833   \n",
       "8              0.649666                             0.756421         0.893016   \n",
       "9              0.728374                             0.632956         0.612972   \n",
       "10             0.614493                             0.696687         0.640331   \n",
       "11             0.570363                             0.684606         0.625132   \n",
       "12             0.628572                             0.731043         0.707147   \n",
       "13             0.645751                             0.764133         0.745981   \n",
       "14             0.769744                             0.701069         0.663211   \n",
       "15             0.643005                             0.872551         0.762995   \n",
       "16             1.000000                             0.679056         0.654954   \n",
       "17             0.679056                             1.000000         0.779121   \n",
       "18             0.654954                             0.779121         1.000000   \n",
       "19             0.772379                             0.822449         0.837923   \n",
       "\n",
       "    VoyageBeagle  \n",
       "0       0.817613  \n",
       "1       0.782719  \n",
       "2       0.773391  \n",
       "3       0.636699  \n",
       "4       0.514529  \n",
       "5       0.818329  \n",
       "6       0.825395  \n",
       "7       0.788067  \n",
       "8       0.830980  \n",
       "9       0.715429  \n",
       "10      0.803729  \n",
       "11      0.737742  \n",
       "12      0.718644  \n",
       "13      0.744308  \n",
       "14      0.746268  \n",
       "15      0.805199  \n",
       "16      0.772379  \n",
       "17      0.822449  \n",
       "18      0.837923  \n",
       "19      1.000000  "
      ]
     },
     "execution_count": 16,
     "metadata": {},
     "output_type": "execute_result"
    }
   ],
   "source": [
    "# Load the library allowing similarity computations\n",
    "from gensim import similarities\n",
    "\n",
    "# Compute the similarity matrix (pairwise distance between all texts)\n",
    "sims = similarities.MatrixSimilarity(corpus= bows)\n",
    "\n",
    "# Transform the resulting list into a dataframe\n",
    "sim_df = pd.DataFrame(sims)\n",
    "\n",
    "# Add the titles of the books as columns and index of the dataframe\n",
    "sim_df.columns= titles\n",
    "\n",
    "# Print the resulting matrix\n",
    "sim_df"
   ]
  },
  {
   "cell_type": "markdown",
   "metadata": {
    "dc": {
     "key": "73"
    },
    "deletable": false,
    "editable": false,
    "run_control": {
     "frozen": true
    },
    "tags": [
     "context"
    ]
   },
   "source": [
    "## 11. The book most similar to \"On the Origin of Species\"\n",
    "<p>We now have a matrix containing all the similarity measures between any pair of books from Charles Darwin! We can now use this matrix to quickly extract the information we need, i.e., the distance between one book and one or several others. </p>\n",
    "<p>As a first step, we will display which books are the most similar to \"<em>On the Origin of Species</em>,\" more specifically we will produce a bar chart showing all books ranked by how similar they are to Darwin's landmark work.</p>"
   ]
  },
  {
   "cell_type": "code",
   "execution_count": 17,
   "metadata": {
    "dc": {
     "key": "73"
    },
    "tags": [
     "sample_code"
    ]
   },
   "outputs": [
    {
     "data": {
      "image/png": "[encoded data removed]",
      "text/plain": [
       "<Figure size 720x720 with 1 Axes>"
      ]
     },
     "metadata": {
      "needs_background": "light"
     },
     "output_type": "display_data"
    }
   ],
   "source": [
    "# This is needed to display plots in a notebook\n",
    "%matplotlib inline\n",
    "\n",
    "# Import libraries\n",
    "import matplotlib.pyplot as plt\n",
    "\n",
    "# Select the column corresponding to \"On the Origin of Species\" and \n",
    "v = sim_df['OriginofSpecies']\n",
    "\n",
    "# Sort by ascending scores\n",
    "v_sorted = v.sort_values()\n",
    "\n",
    "# Plot this data has a horizontal bar plot\n",
    "plt. figure(figsize= (10,10))\n",
    "plt.barh(width=v_sorted, y= sim_df.columns);\n",
    "plt.title('Similarity Score of books with Origin of the Species');\n",
    "# Modify the axes labels and plot title for a better readability\n"
   ]
  },
  {
   "cell_type": "markdown",
   "metadata": {
    "dc": {
     "key": "80"
    },
    "deletable": false,
    "editable": false,
    "run_control": {
     "frozen": true
    },
    "tags": [
     "context"
    ]
   },
   "source": [
    "## 12. Which books have similar content?\n",
    "<p>This turns out to be extremely useful if we want to determine a given book's most similar work. For example, we have just seen that if you enjoyed \"<em>On the Origin of Species</em>,\" you can read books discussing similar concepts such as \"<em>The Variation of Animals and Plants under Domestication</em>\" or \"<em>The Descent of Man, and Selection in Relation to Sex</em>.\" If you are familiar with Darwin's work, these suggestions will likely seem natural to you. Indeed, <em>On the Origin of Species</em> has a whole chapter about domestication and <em>The Descent of Man, and Selection in Relation to Sex</em> applies the theory of natural selection to human evolution. Hence, the results make sense.</p>\n",
    "<p>However, we now want to have a better understanding of the big picture and see how Darwin's books are generally related to each other (in terms of topics discussed). To this purpose, we will represent the whole similarity matrix as a dendrogram, which is a standard tool to display such data. <strong>This last approach will display all the information about book similarities at once.</strong> For example, we can find a book's closest relative but, also, we can visualize which groups of books have similar topics (e.g., the cluster about Charles Darwin personal life with his autobiography and letters). If you are familiar with Darwin's bibliography, the results should not surprise you too much, which indicates the method gives good results. Otherwise, next time you read one of the author's book, you will know which other books to read next in order to learn more about the topics it addressed.</p>"
   ]
  },
  {
   "cell_type": "code",
   "execution_count": 35,
   "metadata": {
    "dc": {
     "key": "80"
    },
    "tags": [
     "sample_code"
    ]
   },
   "outputs": [
    {
     "data": {
      "image/png": "[encoded data removed]",
      "text/plain": [
       "<Figure size 432x288 with 1 Axes>"
      ]
     },
     "metadata": {
      "needs_background": "light"
     },
     "output_type": "display_data"
    }
   ],
   "source": [
    "# Import libraries\n",
    "from scipy.cluster import hierarchy\n",
    "\n",
    "# Compute the clusters from the similarity matrix,\n",
    "# using the Ward variance minimization algorithm\n",
    "Z = hierarchy.ward(sim_df)\n",
    "hierarchy.linkage(sim_df)\n",
    "\n",
    "plt=hierarchy.dendrogram(Z, leaf_font_size=8, labels=sim_df.columns, orientation='left');\n",
    "\n"
   ]
  },
  {
   "cell_type": "code",
   "execution_count": null,
   "metadata": {},
   "outputs": [],
   "source": []
  }
 ],
 "metadata": {
  "kernelspec": {
   "display_name": "Python 3",
   "language": "python",
   "name": "python3"
  },
  "language_info": {
   "codemirror_mode": {
    "name": "ipython",
    "version": 3
   },
   "file_extension": ".py",
   "mimetype": "text/x-python",
   "name": "python",
   "nbconvert_exporter": "python",
   "pygments_lexer": "ipython3",
   "version": "3.7.4"
  }
 },
 "nbformat": 4,
 "nbformat_minor": 2
}
